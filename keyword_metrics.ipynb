{
 "cells": [
  {
   "cell_type": "markdown",
   "metadata": {},
   "source": [
    "### Remarks:\n",
    "\n",
    "1. **double check changing `data_joining.py` did not mess up any indexing**\n",
    "1. combine keyword research notebooks and have a separate grid_search notebook\n",
    "1. Rename columns to recall@max_len, precision@10 \n",
    "1. avoid human inspection as metric for now\n",
    "1. See what aspects of unsupervised methods notebook you can incorporate\n",
    "1. **optimization** do not append to dataframes, start w/ lists and convert to dataframe\n",
    "\n",
    "### To implement:\n",
    "\n",
    "1. Distribution difference\n",
    "    - Calculate cosine distance instead of cosine similarity\n",
    "    - Calculate the distance from the vector of original frequencies instead of the uniform distribution\n",
    "    - Calculate the distance from the all 1s vector\n",
    "\n",
    "1. Calculate document frequency and redundancy metric\n",
    "\n",
    "1. Master metric = some combination of metrics + regularization (esp for max_df) \n",
    "\n",
    "\n",
    "\n"
   ]
  },
  {
   "cell_type": "code",
   "execution_count": 133,
   "metadata": {},
   "outputs": [],
   "source": [
    "import time\n",
    "import os\n",
    "import pandas as pd\n",
    "import numpy as np\n",
    "from collections import Counter\n",
    "from itertools import chain\n",
    "import re\n",
    "import string\n",
    "from nltk.corpus import stopwords\n",
    "from nltk.tokenize import word_tokenize\n",
    "from scipy.spatial.distance import cosine\n",
    "from sklearn.feature_extraction.text import TfidfVectorizer\n",
    "from sklearn.model_selection import KFold\n",
    "from sklearn.model_selection import ParameterGrid\n",
    "from keras.layers import Input, Dense\n",
    "from keras.models import Model\n",
    "from keras import backend as K\n",
    "import tensorflow as tf\n",
    "config = tf.ConfigProto()\n",
    "config.gpu_options.allow_growth=True\n",
    "sess = tf.Session(config=config)\n",
    "K.set_session(sess)\n",
    "pd.options.mode.chained_assignment = None \n",
    "\n",
    "TRAINING_DIR = os.getcwd()\n",
    "vectorfile = os.path.join(TRAINING_DIR, 'course_vecs.tsv')\n",
    "infofile = os.path.join(TRAINING_DIR, 'course_info.tsv')\n",
    "textcolumn = 'course_description'"
   ]
  },
  {
   "cell_type": "code",
   "execution_count": 134,
   "metadata": {},
   "outputs": [],
   "source": [
    "TRAINING_DIR = os.getcwd()\n",
    "vectorfile = os.path.join(TRAINING_DIR, 'course_vecs.tsv')\n",
    "infofile = os.path.join(TRAINING_DIR, 'course_info.tsv')\n",
    "textcolumn = 'course_description'\n",
    "num_top_words = 10\n",
    "use_idf = True\n",
    "tf_bias = .5\n",
    "num_epochs = 5\n",
    "max_df = 0.0028"
   ]
  },
  {
   "cell_type": "markdown",
   "metadata": {},
   "source": [
    "---"
   ]
  },
  {
   "cell_type": "code",
   "execution_count": 135,
   "metadata": {},
   "outputs": [],
   "source": [
    "def get_vocab(dataframe, column):\n",
    "    print(\"[INFO] Getting vocab...\")\n",
    "\n",
    "    dataframe[column] = dataframe[column].fillna('')\n",
    "    \n",
    "    # max_df_param = 0.0028  # 1.0 # 0.0036544883\n",
    "\n",
    "    vectorizer = TfidfVectorizer(max_df = max_df, stop_words='english', ngram_range=(1,1), use_idf=use_idf)\n",
    "    X = vectorizer.fit_transform(dataframe[column])\n",
    "    unigrams = vectorizer.get_feature_names()\n",
    "    print('[UNIGRAMS] Number of unigrams: %d' % (len(unigrams)))\n",
    "    \n",
    "    vectorizer = TfidfVectorizer(max_df = max_df, stop_words='english', ngram_range=(2,2), max_features=max(1, int(len(unigrams)/10)), use_idf=use_idf)\n",
    "    X = vectorizer.fit_transform(dataframe[column])\n",
    "    bigrams = vectorizer.get_feature_names()\n",
    "    print('[BIGRAMS] Number of bigrams: %d' % (len(bigrams)))\n",
    "\n",
    "    vectorizer = TfidfVectorizer(max_df = max_df, stop_words='english', ngram_range=(3,3), max_features=max(1, int(len(bigrams)/10)), use_idf=use_idf)\n",
    "    X = vectorizer.fit_transform(dataframe[column])\n",
    "    trigrams = vectorizer.get_feature_names()\n",
    "    print('[TRIGRAMS] Number of trigrams: %d' % (len(trigrams)))\n",
    "\n",
    "    vocab = np.concatenate((unigrams, bigrams, trigrams))\n",
    "    vocab_list = list(vocab)\n",
    "    removed_numbers_list = [word for word in vocab_list if not any(char.isdigit() for char in word)]\n",
    "    vocab = np.array(removed_numbers_list)\n",
    "#     pd.DataFrame(vocab).to_csv(outputfile+'_vocab.tsv', sep = '\\t', encoding='utf-8', index = False)\n",
    "    return vocab"
   ]
  },
  {
   "cell_type": "code",
   "execution_count": 136,
   "metadata": {},
   "outputs": [],
   "source": [
    "def to_bag_of_words(dataframe, column, vocab):\n",
    "    \"\"\"Input: raw dataframe, text column, and vocabulary.\n",
    "    Returns a sparse matrix of the bag of words representation of the column.\"\"\"\n",
    "    vectorizer = TfidfVectorizer(stop_words='english', vocabulary=vocab, use_idf=use_idf)\n",
    "    X = vectorizer.fit_transform(dataframe[column].values.astype('U'))\n",
    "    if tf_bias == -999:\n",
    "        return X\n",
    "    return (X.multiply(1/X.count_nonzero())).power(-tf_bias)"
   ]
  },
  {
   "cell_type": "code",
   "execution_count": 137,
   "metadata": {},
   "outputs": [],
   "source": [
    "def logistic_regression(X, Y):\n",
    "    print('[INFO] Performing logistic regression...')\n",
    "\n",
    "    inputs = Input(shape=(X.shape[1],))\n",
    "#     print('input shape: ', X.shape[1])  # 300 = number of cols in the feature matrix?\n",
    "#     print('vocab size: ', vocabsize) # 2400 = len(get_vocab(raw_frame, textcolumn)) = num words parsed from description corpus\n",
    "#     x = Dense(30, activation='sigmoid')(inputs)\n",
    "#     predictions = Dense(vocabsize, activation='softmax')(x)\n",
    "    predictions = Dense(vocabsize, activation='softmax')(inputs)\n",
    "    model = Model(inputs=inputs, outputs=predictions)\n",
    "    model.compile(optimizer='rmsprop',\n",
    "              loss='categorical_crossentropy',\n",
    "              metrics=['accuracy'])\n",
    "    model.fit(X, Y, epochs=num_epochs)\n",
    "    weights = model.layers[1].get_weights()[0]\n",
    "    biases = model.layers[1].get_weights()[1]\n",
    "    weights_frame = pd.DataFrame(weights)\n",
    "    biases_frame = pd.DataFrame(biases)\n",
    "    return(weights_frame, biases)"
   ]
  },
  {
   "cell_type": "code",
   "execution_count": 138,
   "metadata": {},
   "outputs": [],
   "source": [
    "def clean_descrip_title(row):\n",
    "    punc_remover = str.maketrans('', '', string.punctuation)\n",
    "    lowered = row['descrip_title'].lower()\n",
    "    lowered_removed_punc = lowered.translate(punc_remover)\n",
    "    cleaned_set = set(lowered_removed_punc.split())\n",
    "    return cleaned_set\n",
    "\n",
    "def recall_keywords(row):\n",
    "    return row['description_title_set'].intersection(row['keywords_set'])"
   ]
  },
  {
   "cell_type": "code",
   "execution_count": 139,
   "metadata": {},
   "outputs": [
    {
     "name": "stdout",
     "output_type": "stream",
     "text": [
      "5\n"
     ]
    }
   ],
   "source": [
    "def test(x=1):\n",
    "    print(x)\n",
    "test(5)"
   ]
  },
  {
   "cell_type": "markdown",
   "metadata": {},
   "source": [
    "---"
   ]
  },
  {
   "cell_type": "markdown",
   "metadata": {},
   "source": [
    "## Dummy Experiment with Only 1 split"
   ]
  },
  {
   "cell_type": "code",
   "execution_count": 155,
   "metadata": {},
   "outputs": [
    {
     "data": {
      "text/html": [
       "<div>\n",
       "<style scoped>\n",
       "    .dataframe tbody tr th:only-of-type {\n",
       "        vertical-align: middle;\n",
       "    }\n",
       "\n",
       "    .dataframe tbody tr th {\n",
       "        vertical-align: top;\n",
       "    }\n",
       "\n",
       "    .dataframe thead th {\n",
       "        text-align: right;\n",
       "    }\n",
       "</style>\n",
       "<table border=\"1\" class=\"dataframe\">\n",
       "  <thead>\n",
       "    <tr style=\"text-align: right;\">\n",
       "      <th></th>\n",
       "      <th>course_name</th>\n",
       "      <th>course_title</th>\n",
       "      <th>course_description</th>\n",
       "      <th>course_subject</th>\n",
       "      <th>course_alternative_names</th>\n",
       "    </tr>\n",
       "  </thead>\n",
       "  <tbody>\n",
       "    <tr>\n",
       "      <th>0</th>\n",
       "      <td>Xart 98</td>\n",
       "      <td>Directed Group Study</td>\n",
       "      <td>This is a student-initiated course to be offer...</td>\n",
       "      <td>FPF-Art Practice</td>\n",
       "      <td>FPF-Art Practice 98 XART98</td>\n",
       "    </tr>\n",
       "    <tr>\n",
       "      <th>1</th>\n",
       "      <td>Xanthro 2ac</td>\n",
       "      <td>Introduction to Archaeology</td>\n",
       "      <td>Prehistory and cultural growth. Introduction t...</td>\n",
       "      <td>FPF-Anthropology</td>\n",
       "      <td>FPF-Anthropology 2AC XANTHRO2AC</td>\n",
       "    </tr>\n",
       "    <tr>\n",
       "      <th>2</th>\n",
       "      <td>Xstat 2</td>\n",
       "      <td>Introduction to Statistics</td>\n",
       "      <td>Population and variables. Standard measures of...</td>\n",
       "      <td>FPF-Statistics</td>\n",
       "      <td>FPF-Statistics 2 XSTAT2</td>\n",
       "    </tr>\n",
       "    <tr>\n",
       "      <th>3</th>\n",
       "      <td>Xmath 1b</td>\n",
       "      <td>Calculus</td>\n",
       "      <td>Continuation of 1A. Techniques of integration;...</td>\n",
       "      <td>FPF-Mathematics</td>\n",
       "      <td>FPF-Mathematics 1B XMATH1B</td>\n",
       "    </tr>\n",
       "    <tr>\n",
       "      <th>4</th>\n",
       "      <td>Xphilos 3</td>\n",
       "      <td>The Nature of Mind</td>\n",
       "      <td>Introduction to the philosophy of mind. Topics...</td>\n",
       "      <td>FPF-Philosophy</td>\n",
       "      <td>FPF-Philosophy 3 XPHILOS3</td>\n",
       "    </tr>\n",
       "  </tbody>\n",
       "</table>\n",
       "</div>"
      ],
      "text/plain": [
       "   course_name                 course_title  \\\n",
       "0      Xart 98         Directed Group Study   \n",
       "1  Xanthro 2ac  Introduction to Archaeology   \n",
       "2      Xstat 2   Introduction to Statistics   \n",
       "3     Xmath 1b                     Calculus   \n",
       "4    Xphilos 3           The Nature of Mind   \n",
       "\n",
       "                                  course_description    course_subject  \\\n",
       "0  This is a student-initiated course to be offer...  FPF-Art Practice   \n",
       "1  Prehistory and cultural growth. Introduction t...  FPF-Anthropology   \n",
       "2  Population and variables. Standard measures of...    FPF-Statistics   \n",
       "3  Continuation of 1A. Techniques of integration;...   FPF-Mathematics   \n",
       "4  Introduction to the philosophy of mind. Topics...    FPF-Philosophy   \n",
       "\n",
       "          course_alternative_names  \n",
       "0       FPF-Art Practice 98 XART98  \n",
       "1  FPF-Anthropology 2AC XANTHRO2AC  \n",
       "2          FPF-Statistics 2 XSTAT2  \n",
       "3       FPF-Mathematics 1B XMATH1B  \n",
       "4        FPF-Philosophy 3 XPHILOS3  "
      ]
     },
     "execution_count": 155,
     "metadata": {},
     "output_type": "execute_result"
    }
   ],
   "source": [
    "from sklearn.model_selection import train_test_split\n",
    "\n",
    "vec_frame = pd.read_csv(vectorfile, sep = '\\t') # Vector space representation of each user, all numeric\n",
    "info_frame = pd.read_csv(infofile, sep = '\\t') # Course information\n",
    "info_frame.head()"
   ]
  },
  {
   "cell_type": "code",
   "execution_count": 156,
   "metadata": {},
   "outputs": [],
   "source": [
    "# info_frame['abbr_cid'] = info_frame.course_name.str.replace(' ', '_').str.upper()\n",
    "# api_df = pd.read_csv('/home/matthew/Models-AskOski/shared/course_info.tsv', sep = '\\t', ).drop(['Unnamed: 0', 'idx', 'updated_date'],axis=1)\n",
    "# api_df.head(5) \n",
    "# any(api_df.course_subject.isnull())\n",
    "# temp = pd.merge(info_frame, api_df, on='abbr_cid')[['course_name', 'course_title', 'course_description', 'course_alternative_names', 'course_subject']]\n"
   ]
  },
  {
   "cell_type": "code",
   "execution_count": 157,
   "metadata": {},
   "outputs": [],
   "source": [
    "nonempty_indices = np.where(info_frame[textcolumn].notnull())[0]\n",
    "filtered_vec_df = vec_frame.iloc[nonempty_indices,:].reset_index(drop = True)\n",
    "filtered_descript_df = info_frame.iloc[nonempty_indices,:].reset_index(drop = True)\n",
    "max_descript_len = max(filtered_descript_df.course_description.str.split().str.len())"
   ]
  },
  {
   "cell_type": "code",
   "execution_count": 158,
   "metadata": {},
   "outputs": [
    {
     "name": "stdout",
     "output_type": "stream",
     "text": [
      "5901 1476\n"
     ]
    }
   ],
   "source": [
    "X_train, X_test, Y_train, Y_test = train_test_split(filtered_vec_df, filtered_descript_df, test_size=0.2, random_state=42)\n",
    "\n",
    "print(X_train.shape[0], X_test.shape[0])"
   ]
  },
  {
   "cell_type": "code",
   "execution_count": 160,
   "metadata": {},
   "outputs": [
    {
     "name": "stdout",
     "output_type": "stream",
     "text": [
      "[INFO] Getting vocab...\n",
      "[UNIGRAMS] Number of unigrams: 11580\n",
      "[BIGRAMS] Number of bigrams: 1158\n",
      "[TRIGRAMS] Number of trigrams: 115\n"
     ]
    },
    {
     "data": {
      "text/plain": [
       "array([[0., 0., 0., ..., 0., 0., 0.],\n",
       "       [0., 0., 0., ..., 0., 0., 0.],\n",
       "       [0., 0., 0., ..., 0., 0., 0.],\n",
       "       ...,\n",
       "       [0., 0., 0., ..., 0., 0., 0.],\n",
       "       [0., 0., 0., ..., 0., 0., 0.],\n",
       "       [0., 0., 0., ..., 0., 0., 0.]])"
      ]
     },
     "execution_count": 160,
     "metadata": {},
     "output_type": "execute_result"
    }
   ],
   "source": [
    "vocab = get_vocab(Y_train, textcolumn) # get_vocab(raw_frame, textcolumn) \n",
    "vocab_frame = pd.DataFrame(vocab)\n",
    "    \n",
    "vocabsize = len(vocab)\n",
    "\n",
    "# Convert the textcolumn of the raw dataframe into bag of words representation\n",
    "Y_train_BOW = to_bag_of_words(Y_train, textcolumn, vocab)\n",
    "Y_train_BOW = Y_train_BOW.toarray()\n",
    "Y_train_BOW"
   ]
  },
  {
   "cell_type": "code",
   "execution_count": 161,
   "metadata": {},
   "outputs": [
    {
     "name": "stdout",
     "output_type": "stream",
     "text": [
      "[INFO] Performing logistic regression...\n",
      "Epoch 1/5\n",
      "5901/5901 [==============================] - 3s 428us/step - loss: 18854.7786 - acc: 0.0105\n",
      "Epoch 2/5\n",
      "5901/5901 [==============================] - 2s 312us/step - loss: 17371.5825 - acc: 0.0525\n",
      "Epoch 3/5\n",
      "5901/5901 [==============================] - 2s 313us/step - loss: 16545.1459 - acc: 0.0754\n",
      "Epoch 4/5\n",
      "5901/5901 [==============================] - 2s 316us/step - loss: 15840.3174 - acc: 0.0947\n",
      "Epoch 5/5\n",
      "5901/5901 [==============================] - 2s 320us/step - loss: 15214.7901 - acc: 0.1132\n"
     ]
    }
   ],
   "source": [
    "(weights_frame, biases) = logistic_regression(X_train.iloc[:,1:], Y_train_BOW)"
   ]
  },
  {
   "cell_type": "code",
   "execution_count": 162,
   "metadata": {},
   "outputs": [
    {
     "name": "stdout",
     "output_type": "stream",
     "text": [
      "[INFO] Sorting classification results...\n"
     ]
    }
   ],
   "source": [
    "softmax_frame = X_test.iloc[:,1:].dot(weights_frame.values) + biases\n",
    "print('[INFO] Sorting classification results...')\n",
    "sorted_frame = np.argsort(softmax_frame,axis=1).iloc[:,-num_top_words:]\n",
    "\n",
    "predicted_keyword_list = []\n",
    "for i in range(num_top_words):\n",
    "    new_col = vocab_frame.iloc[sorted_frame.iloc[:,i],0] # get the ith top vocab word for each entry\n",
    "    predicted_keyword_list.extend(new_col.values)\n",
    "    Y_test['predicted_word_' + str(num_top_words-i)] = new_col.values\n"
   ]
  },
  {
   "cell_type": "code",
   "execution_count": 196,
   "metadata": {},
   "outputs": [
    {
     "data": {
      "text/html": [
       "<div>\n",
       "<style scoped>\n",
       "    .dataframe tbody tr th:only-of-type {\n",
       "        vertical-align: middle;\n",
       "    }\n",
       "\n",
       "    .dataframe tbody tr th {\n",
       "        vertical-align: top;\n",
       "    }\n",
       "\n",
       "    .dataframe thead th {\n",
       "        text-align: right;\n",
       "    }\n",
       "</style>\n",
       "<table border=\"1\" class=\"dataframe\">\n",
       "  <thead>\n",
       "    <tr style=\"text-align: right;\">\n",
       "      <th></th>\n",
       "      <th>course_name</th>\n",
       "      <th>course_title</th>\n",
       "      <th>course_description</th>\n",
       "      <th>course_subject</th>\n",
       "      <th>course_alternative_names</th>\n",
       "      <th>predicted_word_10</th>\n",
       "      <th>predicted_word_9</th>\n",
       "      <th>predicted_word_8</th>\n",
       "      <th>predicted_word_7</th>\n",
       "      <th>predicted_word_6</th>\n",
       "      <th>predicted_word_5</th>\n",
       "      <th>predicted_word_4</th>\n",
       "      <th>predicted_word_3</th>\n",
       "      <th>predicted_word_2</th>\n",
       "      <th>predicted_word_1</th>\n",
       "    </tr>\n",
       "  </thead>\n",
       "  <tbody>\n",
       "    <tr>\n",
       "      <th>2288</th>\n",
       "      <td>Theater 52ac</td>\n",
       "      <td>Dance in American Cultures</td>\n",
       "      <td>Dance as a meaning-making expressive form.  De...</td>\n",
       "      <td>Theater Dance &amp; Perf Stds</td>\n",
       "      <td>Theater Dance &amp; Perf Stds 52AC THEATER52AC</td>\n",
       "      <td>explorations</td>\n",
       "      <td>theatre</td>\n",
       "      <td>recording</td>\n",
       "      <td>formations</td>\n",
       "      <td>allowing</td>\n",
       "      <td>performing</td>\n",
       "      <td>performances</td>\n",
       "      <td>supplies</td>\n",
       "      <td>vocal</td>\n",
       "      <td>productions</td>\n",
       "    </tr>\n",
       "    <tr>\n",
       "      <th>6602</th>\n",
       "      <td>Slavic 138</td>\n",
       "      <td>Topics in Russian and Soviet Film</td>\n",
       "      <td>This course will examine the Russian contribut...</td>\n",
       "      <td>Slavic Languages &amp; Lit</td>\n",
       "      <td>Slavic Languages &amp; Lit 138 SLAVIC138</td>\n",
       "      <td>folklore</td>\n",
       "      <td>looking</td>\n",
       "      <td>aspect</td>\n",
       "      <td>soviet</td>\n",
       "      <td>beginner</td>\n",
       "      <td>avant</td>\n",
       "      <td>viewing</td>\n",
       "      <td>garde</td>\n",
       "      <td>russia</td>\n",
       "      <td>slavic</td>\n",
       "    </tr>\n",
       "    <tr>\n",
       "      <th>4483</th>\n",
       "      <td>Art 301</td>\n",
       "      <td>The Teaching of Art: Practice</td>\n",
       "      <td>Utilizing aspects of pedagogical and andragogi...</td>\n",
       "      <td>Art Practice</td>\n",
       "      <td>Art Practice 301 ART301</td>\n",
       "      <td>notion</td>\n",
       "      <td>communicating</td>\n",
       "      <td>centered</td>\n",
       "      <td>print</td>\n",
       "      <td>audience</td>\n",
       "      <td>avant</td>\n",
       "      <td>garde</td>\n",
       "      <td>performances</td>\n",
       "      <td>recording</td>\n",
       "      <td>talks</td>\n",
       "    </tr>\n",
       "    <tr>\n",
       "      <th>5321</th>\n",
       "      <td>Env sci 100</td>\n",
       "      <td>Introduction to the Methods of Environmental S...</td>\n",
       "      <td>Introduction to basic methods used in environm...</td>\n",
       "      <td>Environmental Sciences</td>\n",
       "      <td>Environmental Sciences 100 ENV SCI100</td>\n",
       "      <td>remote</td>\n",
       "      <td>fate</td>\n",
       "      <td>greatest</td>\n",
       "      <td>habitat</td>\n",
       "      <td>trip</td>\n",
       "      <td>insects</td>\n",
       "      <td>agricultural</td>\n",
       "      <td>wildlife</td>\n",
       "      <td>geologic</td>\n",
       "      <td>espm</td>\n",
       "    </tr>\n",
       "    <tr>\n",
       "      <th>5447</th>\n",
       "      <td>Nuc eng 221</td>\n",
       "      <td>Corrosion in Nuclear Power Systems</td>\n",
       "      <td>Structural metals in nuclear power plants; pro...</td>\n",
       "      <td>Nuclear Engineering</td>\n",
       "      <td>Nuclear Engineering 221 NUC ENG221</td>\n",
       "      <td>calculations</td>\n",
       "      <td>radioactive</td>\n",
       "      <td>fast</td>\n",
       "      <td>neutron</td>\n",
       "      <td>beam</td>\n",
       "      <td>fission</td>\n",
       "      <td>reactors</td>\n",
       "      <td>fuel</td>\n",
       "      <td>fusion</td>\n",
       "      <td>reactor</td>\n",
       "    </tr>\n",
       "  </tbody>\n",
       "</table>\n",
       "</div>"
      ],
      "text/plain": [
       "       course_name                                       course_title  \\\n",
       "2288  Theater 52ac                         Dance in American Cultures   \n",
       "6602    Slavic 138                  Topics in Russian and Soviet Film   \n",
       "4483       Art 301                      The Teaching of Art: Practice   \n",
       "5321   Env sci 100  Introduction to the Methods of Environmental S...   \n",
       "5447   Nuc eng 221                 Corrosion in Nuclear Power Systems   \n",
       "\n",
       "                                     course_description  \\\n",
       "2288  Dance as a meaning-making expressive form.  De...   \n",
       "6602  This course will examine the Russian contribut...   \n",
       "4483  Utilizing aspects of pedagogical and andragogi...   \n",
       "5321  Introduction to basic methods used in environm...   \n",
       "5447  Structural metals in nuclear power plants; pro...   \n",
       "\n",
       "                 course_subject                    course_alternative_names  \\\n",
       "2288  Theater Dance & Perf Stds  Theater Dance & Perf Stds 52AC THEATER52AC   \n",
       "6602     Slavic Languages & Lit        Slavic Languages & Lit 138 SLAVIC138   \n",
       "4483               Art Practice                     Art Practice 301 ART301   \n",
       "5321     Environmental Sciences       Environmental Sciences 100 ENV SCI100   \n",
       "5447        Nuclear Engineering          Nuclear Engineering 221 NUC ENG221   \n",
       "\n",
       "     predicted_word_10 predicted_word_9 predicted_word_8 predicted_word_7  \\\n",
       "2288      explorations          theatre        recording       formations   \n",
       "6602          folklore          looking           aspect           soviet   \n",
       "4483            notion    communicating         centered            print   \n",
       "5321            remote             fate         greatest          habitat   \n",
       "5447      calculations      radioactive             fast          neutron   \n",
       "\n",
       "     predicted_word_6 predicted_word_5 predicted_word_4 predicted_word_3  \\\n",
       "2288         allowing       performing     performances         supplies   \n",
       "6602         beginner            avant          viewing            garde   \n",
       "4483         audience            avant            garde     performances   \n",
       "5321             trip          insects     agricultural         wildlife   \n",
       "5447             beam          fission         reactors             fuel   \n",
       "\n",
       "     predicted_word_2 predicted_word_1  \n",
       "2288            vocal      productions  \n",
       "6602           russia           slavic  \n",
       "4483        recording            talks  \n",
       "5321         geologic             espm  \n",
       "5447           fusion          reactor  "
      ]
     },
     "execution_count": 196,
     "metadata": {},
     "output_type": "execute_result"
    }
   ],
   "source": [
    "Y_test.sample(5)"
   ]
  },
  {
   "cell_type": "code",
   "execution_count": 283,
   "metadata": {},
   "outputs": [
    {
     "data": {
      "text/plain": [
       "(1476, 11)"
      ]
     },
     "execution_count": 283,
     "metadata": {},
     "output_type": "execute_result"
    }
   ],
   "source": [
    "temp = Y_test[Y_test.columns.difference(['course_name', 'course_title', 'course_description', 'tf_bias', 'course_alternative_names'])]\n",
    "temp.shape"
   ]
  },
  {
   "cell_type": "code",
   "execution_count": 207,
   "metadata": {},
   "outputs": [
    {
     "data": {
      "text/html": [
       "<div>\n",
       "<style scoped>\n",
       "    .dataframe tbody tr th:only-of-type {\n",
       "        vertical-align: middle;\n",
       "    }\n",
       "\n",
       "    .dataframe tbody tr th {\n",
       "        vertical-align: top;\n",
       "    }\n",
       "\n",
       "    .dataframe thead th {\n",
       "        text-align: right;\n",
       "    }\n",
       "</style>\n",
       "<table border=\"1\" class=\"dataframe\">\n",
       "  <thead>\n",
       "    <tr style=\"text-align: right;\">\n",
       "      <th></th>\n",
       "      <th>predicted_word_1</th>\n",
       "      <th>predicted_word_10</th>\n",
       "      <th>predicted_word_2</th>\n",
       "      <th>predicted_word_3</th>\n",
       "      <th>predicted_word_4</th>\n",
       "      <th>predicted_word_5</th>\n",
       "      <th>predicted_word_6</th>\n",
       "      <th>predicted_word_7</th>\n",
       "      <th>predicted_word_8</th>\n",
       "      <th>predicted_word_9</th>\n",
       "    </tr>\n",
       "    <tr>\n",
       "      <th>course_subject</th>\n",
       "      <th></th>\n",
       "      <th></th>\n",
       "      <th></th>\n",
       "      <th></th>\n",
       "      <th></th>\n",
       "      <th></th>\n",
       "      <th></th>\n",
       "      <th></th>\n",
       "      <th></th>\n",
       "      <th></th>\n",
       "    </tr>\n",
       "  </thead>\n",
       "  <tbody>\n",
       "    <tr>\n",
       "      <th>Engineering</th>\n",
       "      <td>sponsoring</td>\n",
       "      <td>income</td>\n",
       "      <td>professionally</td>\n",
       "      <td>matlab</td>\n",
       "      <td>homework</td>\n",
       "      <td>layout</td>\n",
       "      <td>dependent</td>\n",
       "      <td>advisor</td>\n",
       "      <td>quickly</td>\n",
       "      <td>allocation</td>\n",
       "    </tr>\n",
       "    <tr>\n",
       "      <th>History</th>\n",
       "      <td>powers</td>\n",
       "      <td>rule</td>\n",
       "      <td>edu</td>\n",
       "      <td>russia</td>\n",
       "      <td>agricultural</td>\n",
       "      <td>rome</td>\n",
       "      <td>trace</td>\n",
       "      <td>evolved</td>\n",
       "      <td>looking</td>\n",
       "      <td>cold</td>\n",
       "    </tr>\n",
       "    <tr>\n",
       "      <th>Public Health</th>\n",
       "      <td>concern</td>\n",
       "      <td>survival</td>\n",
       "      <td>fertility</td>\n",
       "      <td>demographic</td>\n",
       "      <td>residents</td>\n",
       "      <td>demography</td>\n",
       "      <td>credential</td>\n",
       "      <td>influenced</td>\n",
       "      <td>multivariate</td>\n",
       "      <td>generalized</td>\n",
       "    </tr>\n",
       "    <tr>\n",
       "      <th>Evening &amp; Weekend MBA</th>\n",
       "      <td>arbitrage</td>\n",
       "      <td>dependent</td>\n",
       "      <td>company</td>\n",
       "      <td>managed</td>\n",
       "      <td>workers</td>\n",
       "      <td>resulting</td>\n",
       "      <td>enabling</td>\n",
       "      <td>drug</td>\n",
       "      <td>practiced</td>\n",
       "      <td>diagnostic</td>\n",
       "    </tr>\n",
       "    <tr>\n",
       "      <th>History</th>\n",
       "      <td>did</td>\n",
       "      <td>socialism</td>\n",
       "      <td>powers</td>\n",
       "      <td>cold</td>\n",
       "      <td>rural</td>\n",
       "      <td>trace</td>\n",
       "      <td>formations</td>\n",
       "      <td>modernism</td>\n",
       "      <td>struggles</td>\n",
       "      <td>peace</td>\n",
       "    </tr>\n",
       "  </tbody>\n",
       "</table>\n",
       "</div>"
      ],
      "text/plain": [
       "                      predicted_word_1 predicted_word_10 predicted_word_2  \\\n",
       "course_subject                                                              \n",
       "Engineering                 sponsoring            income   professionally   \n",
       "History                         powers              rule              edu   \n",
       "Public Health                  concern          survival        fertility   \n",
       "Evening & Weekend MBA        arbitrage         dependent          company   \n",
       "History                            did         socialism           powers   \n",
       "\n",
       "                      predicted_word_3 predicted_word_4 predicted_word_5  \\\n",
       "course_subject                                                             \n",
       "Engineering                     matlab         homework           layout   \n",
       "History                         russia     agricultural             rome   \n",
       "Public Health              demographic        residents       demography   \n",
       "Evening & Weekend MBA          managed          workers        resulting   \n",
       "History                           cold            rural            trace   \n",
       "\n",
       "                      predicted_word_6 predicted_word_7 predicted_word_8  \\\n",
       "course_subject                                                             \n",
       "Engineering                  dependent          advisor          quickly   \n",
       "History                          trace          evolved          looking   \n",
       "Public Health               credential       influenced     multivariate   \n",
       "Evening & Weekend MBA         enabling             drug        practiced   \n",
       "History                     formations        modernism        struggles   \n",
       "\n",
       "                      predicted_word_9  \n",
       "course_subject                          \n",
       "Engineering                 allocation  \n",
       "History                           cold  \n",
       "Public Health              generalized  \n",
       "Evening & Weekend MBA       diagnostic  \n",
       "History                          peace  "
      ]
     },
     "execution_count": 207,
     "metadata": {},
     "output_type": "execute_result"
    }
   ],
   "source": [
    "doc_freq_df_cols = Y_test.columns.difference(['course_title', 'course_description', 'course_name', 'course_alternative_names'])\n",
    "doc_df = Y_test.loc[:,doc_freq_df_cols]\n",
    "test = doc_df.loc[doc_df.course_subject.str.contains('History')]\n",
    "doc_df.set_index('course_subject', inplace=True)\n",
    "doc_df.head()"
   ]
  },
  {
   "cell_type": "code",
   "execution_count": 208,
   "metadata": {},
   "outputs": [],
   "source": [
    "from collections import defaultdict"
   ]
  },
  {
   "cell_type": "code",
   "execution_count": 209,
   "metadata": {},
   "outputs": [
    {
     "data": {
      "text/html": [
       "<div>\n",
       "<style scoped>\n",
       "    .dataframe tbody tr th:only-of-type {\n",
       "        vertical-align: middle;\n",
       "    }\n",
       "\n",
       "    .dataframe tbody tr th {\n",
       "        vertical-align: top;\n",
       "    }\n",
       "\n",
       "    .dataframe thead th {\n",
       "        text-align: right;\n",
       "    }\n",
       "</style>\n",
       "<table border=\"1\" class=\"dataframe\">\n",
       "  <thead>\n",
       "    <tr style=\"text-align: right;\">\n",
       "      <th></th>\n",
       "      <th>predicted_word_1</th>\n",
       "      <th>predicted_word_10</th>\n",
       "      <th>predicted_word_2</th>\n",
       "      <th>predicted_word_3</th>\n",
       "      <th>predicted_word_4</th>\n",
       "      <th>predicted_word_5</th>\n",
       "      <th>predicted_word_6</th>\n",
       "      <th>predicted_word_7</th>\n",
       "      <th>predicted_word_8</th>\n",
       "      <th>predicted_word_9</th>\n",
       "    </tr>\n",
       "    <tr>\n",
       "      <th>course_subject</th>\n",
       "      <th></th>\n",
       "      <th></th>\n",
       "      <th></th>\n",
       "      <th></th>\n",
       "      <th></th>\n",
       "      <th></th>\n",
       "      <th></th>\n",
       "      <th></th>\n",
       "      <th></th>\n",
       "      <th></th>\n",
       "    </tr>\n",
       "  </thead>\n",
       "  <tbody>\n",
       "    <tr>\n",
       "      <th>History</th>\n",
       "      <td>powers</td>\n",
       "      <td>rule</td>\n",
       "      <td>edu</td>\n",
       "      <td>russia</td>\n",
       "      <td>agricultural</td>\n",
       "      <td>rome</td>\n",
       "      <td>trace</td>\n",
       "      <td>evolved</td>\n",
       "      <td>looking</td>\n",
       "      <td>cold</td>\n",
       "    </tr>\n",
       "    <tr>\n",
       "      <th>History</th>\n",
       "      <td>did</td>\n",
       "      <td>socialism</td>\n",
       "      <td>powers</td>\n",
       "      <td>cold</td>\n",
       "      <td>rural</td>\n",
       "      <td>trace</td>\n",
       "      <td>formations</td>\n",
       "      <td>modernism</td>\n",
       "      <td>struggles</td>\n",
       "      <td>peace</td>\n",
       "    </tr>\n",
       "    <tr>\n",
       "      <th>History</th>\n",
       "      <td>iran</td>\n",
       "      <td>performing</td>\n",
       "      <td>france</td>\n",
       "      <td>did</td>\n",
       "      <td>crisis</td>\n",
       "      <td>west</td>\n",
       "      <td>evolved</td>\n",
       "      <td>supplies</td>\n",
       "      <td>enlightenment</td>\n",
       "      <td>republic</td>\n",
       "    </tr>\n",
       "    <tr>\n",
       "      <th>History of Art</th>\n",
       "      <td>economists</td>\n",
       "      <td>allocation</td>\n",
       "      <td>square</td>\n",
       "      <td>investigating</td>\n",
       "      <td>correlation</td>\n",
       "      <td>income</td>\n",
       "      <td>outcome</td>\n",
       "      <td>solubility</td>\n",
       "      <td>fair</td>\n",
       "      <td>optometric</td>\n",
       "    </tr>\n",
       "    <tr>\n",
       "      <th>History of Art</th>\n",
       "      <td>doe</td>\n",
       "      <td>france</td>\n",
       "      <td>listings</td>\n",
       "      <td>formations</td>\n",
       "      <td>audience</td>\n",
       "      <td>spain</td>\n",
       "      <td>desirable</td>\n",
       "      <td>ca</td>\n",
       "      <td>ideological</td>\n",
       "      <td>modernism</td>\n",
       "    </tr>\n",
       "  </tbody>\n",
       "</table>\n",
       "</div>"
      ],
      "text/plain": [
       "               predicted_word_1 predicted_word_10 predicted_word_2  \\\n",
       "course_subject                                                       \n",
       "History                  powers              rule              edu   \n",
       "History                     did         socialism           powers   \n",
       "History                    iran        performing           france   \n",
       "History of Art       economists        allocation           square   \n",
       "History of Art              doe            france         listings   \n",
       "\n",
       "               predicted_word_3 predicted_word_4 predicted_word_5  \\\n",
       "course_subject                                                      \n",
       "History                  russia     agricultural             rome   \n",
       "History                    cold            rural            trace   \n",
       "History                     did           crisis             west   \n",
       "History of Art    investigating      correlation           income   \n",
       "History of Art       formations         audience            spain   \n",
       "\n",
       "               predicted_word_6 predicted_word_7 predicted_word_8  \\\n",
       "course_subject                                                      \n",
       "History                   trace          evolved          looking   \n",
       "History              formations        modernism        struggles   \n",
       "History                 evolved         supplies    enlightenment   \n",
       "History of Art          outcome       solubility             fair   \n",
       "History of Art        desirable               ca      ideological   \n",
       "\n",
       "               predicted_word_9  \n",
       "course_subject                   \n",
       "History                    cold  \n",
       "History                   peace  \n",
       "History                republic  \n",
       "History of Art       optometric  \n",
       "History of Art        modernism  "
      ]
     },
     "execution_count": 209,
     "metadata": {},
     "output_type": "execute_result"
    }
   ],
   "source": [
    "test.set_index('course_subject', inplace=True)\n",
    "test.head()"
   ]
  },
  {
   "cell_type": "code",
   "execution_count": 255,
   "metadata": {},
   "outputs": [
    {
     "data": {
      "text/plain": [
       "1354"
      ]
     },
     "execution_count": 255,
     "metadata": {},
     "output_type": "execute_result"
    }
   ],
   "source": [
    "document_dict = defaultdict(list)\n",
    "terms = set()\n",
    "for index,row in doc_df.iterrows():\n",
    "    document_dict[index].extend(row.values)\n",
    "    terms.update(row.values)\n",
    "# doc_freq_dict\n",
    "len(terms)"
   ]
  },
  {
   "cell_type": "code",
   "execution_count": 254,
   "metadata": {},
   "outputs": [
    {
     "data": {
      "text/plain": [
       "0.6666666666666666"
      ]
     },
     "execution_count": 254,
     "metadata": {},
     "output_type": "execute_result"
    }
   ],
   "source": [
    "num_docs = len(document_dict.keys())\n",
    "doc_freq_i = 0\n",
    "for key in document_dict.keys():\n",
    "    if 'performing' in document_dict.get(key):\n",
    "        doc_freq_i += 1\n",
    "#         print(doc_freq_i)\n",
    "doc_freq_i / num_docs"
   ]
  },
  {
   "cell_type": "code",
   "execution_count": 258,
   "metadata": {
    "scrolled": true
   },
   "outputs": [],
   "source": [
    "doc_freq_dict = defaultdict()\n",
    "num_docs = len(document_dict.keys())\n",
    "for term in terms:\n",
    "    doc_freq_i = 0\n",
    "#     print(term)\n",
    "    for key in document_dict.keys():\n",
    "        if term in document_dict.get(key):\n",
    "            doc_freq_i += 1\n",
    "    doc_freq_dict[term] = doc_freq_i / (num_docs)\n"
   ]
  },
  {
   "cell_type": "code",
   "execution_count": 271,
   "metadata": {},
   "outputs": [
    {
     "data": {
      "text/plain": [
       "[('powers', 0.2822085889570552),\n",
       " ('formations', 0.27607361963190186),\n",
       " ('performing', 0.25766871165644173),\n",
       " ('agricultural', 0.24539877300613497),\n",
       " ('trace', 0.22085889570552147),\n",
       " ('informed', 0.2147239263803681),\n",
       " ('crisis', 0.20245398773006135),\n",
       " ('did', 0.17791411042944785),\n",
       " ('modernism', 0.17791411042944785),\n",
       " ('recording', 0.17791411042944785)]"
      ]
     },
     "execution_count": 271,
     "metadata": {},
     "output_type": "execute_result"
    }
   ],
   "source": [
    "Counter(doc_freq_dict).most_common(10)\n",
    "# sorted(doc_freq_dict, key=doc_freq_dict.get, reverse=True)[:10]"
   ]
  },
  {
   "cell_type": "code",
   "execution_count": 295,
   "metadata": {},
   "outputs": [
    {
     "data": {
      "text/plain": [
       "0.024354106442170894"
      ]
     },
     "execution_count": 295,
     "metadata": {},
     "output_type": "execute_result"
    }
   ],
   "source": [
    "np.mean(list(doc_freq_dict.values()))"
   ]
  },
  {
   "cell_type": "code",
   "execution_count": 195,
   "metadata": {},
   "outputs": [
    {
     "data": {
      "text/plain": [
       "[('trace', 150),\n",
       " ('powers', 148),\n",
       " ('formations', 133),\n",
       " ('agricultural', 111),\n",
       " ('performing', 108),\n",
       " ('struggles', 92),\n",
       " ('looking', 91),\n",
       " ('income', 90),\n",
       " ('authority', 86),\n",
       " ('crisis', 84),\n",
       " ('did', 80),\n",
       " ('chronological', 72),\n",
       " ('evolved', 71),\n",
       " ('modernism', 69),\n",
       " ('republic', 68)]"
      ]
     },
     "execution_count": 195,
     "metadata": {},
     "output_type": "execute_result"
    }
   ],
   "source": [
    "from collections import Counter\n",
    "\n",
    "keyword_counter = Counter(predicted_keyword_list)\n",
    "\n",
    "keyword_counter.most_common(15)"
   ]
  },
  {
   "cell_type": "code",
   "execution_count": 201,
   "metadata": {},
   "outputs": [
    {
     "data": {
      "text/plain": [
       "1354"
      ]
     },
     "execution_count": 201,
     "metadata": {},
     "output_type": "execute_result"
    }
   ],
   "source": [
    "len(keyword_counter)"
   ]
  },
  {
   "cell_type": "code",
   "execution_count": 18,
   "metadata": {
    "scrolled": true
   },
   "outputs": [
    {
     "data": {
      "text/html": [
       "<div>\n",
       "<style scoped>\n",
       "    .dataframe tbody tr th:only-of-type {\n",
       "        vertical-align: middle;\n",
       "    }\n",
       "\n",
       "    .dataframe tbody tr th {\n",
       "        vertical-align: top;\n",
       "    }\n",
       "\n",
       "    .dataframe thead th {\n",
       "        text-align: right;\n",
       "    }\n",
       "</style>\n",
       "<table border=\"1\" class=\"dataframe\">\n",
       "  <thead>\n",
       "    <tr style=\"text-align: right;\">\n",
       "      <th></th>\n",
       "      <th>ACADEMIC_DEPARTMENT_NAME</th>\n",
       "      <th>ACADEMIC_DIVISION_NAME</th>\n",
       "      <th>MAJOR_NAME</th>\n",
       "      <th>COLLEGE_NAME</th>\n",
       "    </tr>\n",
       "  </thead>\n",
       "  <tbody>\n",
       "    <tr>\n",
       "      <th>0</th>\n",
       "      <td>African American Studies</td>\n",
       "      <td>L&amp;S Social Sciences Division</td>\n",
       "      <td>Afr Amer Stds-Humanities</td>\n",
       "      <td>Clg of Letters &amp; Science</td>\n",
       "    </tr>\n",
       "    <tr>\n",
       "      <th>1</th>\n",
       "      <td>African American Studies</td>\n",
       "      <td>L&amp;S Social Sciences Division</td>\n",
       "      <td>Afr Amer Stds-Social Sci</td>\n",
       "      <td>Clg of Letters &amp; Science</td>\n",
       "    </tr>\n",
       "    <tr>\n",
       "      <th>2</th>\n",
       "      <td>African American Studies</td>\n",
       "      <td>L&amp;S Social Sciences Division</td>\n",
       "      <td>African American Studies</td>\n",
       "      <td>Clg of Letters &amp; Science</td>\n",
       "    </tr>\n",
       "    <tr>\n",
       "      <th>3</th>\n",
       "      <td>Ag &amp; Env Chem Grad Grp</td>\n",
       "      <td>Clg of Natural Resources</td>\n",
       "      <td>Ag &amp; Environmental Chem</td>\n",
       "      <td>Clg of Natural Resources</td>\n",
       "    </tr>\n",
       "    <tr>\n",
       "      <th>4</th>\n",
       "      <td>Ag &amp; Resource Econ &amp; Pol</td>\n",
       "      <td>Clg of Natural Resources</td>\n",
       "      <td>Ag &amp; Resource Economics</td>\n",
       "      <td>Clg of Natural Resources</td>\n",
       "    </tr>\n",
       "  </tbody>\n",
       "</table>\n",
       "</div>"
      ],
      "text/plain": [
       "   ACADEMIC_DEPARTMENT_NAME        ACADEMIC_DIVISION_NAME  \\\n",
       "0  African American Studies  L&S Social Sciences Division   \n",
       "1  African American Studies  L&S Social Sciences Division   \n",
       "2  African American Studies  L&S Social Sciences Division   \n",
       "3    Ag & Env Chem Grad Grp      Clg of Natural Resources   \n",
       "4  Ag & Resource Econ & Pol      Clg of Natural Resources   \n",
       "\n",
       "                 MAJOR_NAME              COLLEGE_NAME  \n",
       "0  Afr Amer Stds-Humanities  Clg of Letters & Science  \n",
       "1  Afr Amer Stds-Social Sci  Clg of Letters & Science  \n",
       "2  African American Studies  Clg of Letters & Science  \n",
       "3   Ag & Environmental Chem  Clg of Natural Resources  \n",
       "4   Ag & Resource Economics  Clg of Natural Resources  "
      ]
     },
     "execution_count": 18,
     "metadata": {},
     "output_type": "execute_result"
    }
   ],
   "source": [
    "dpt_file = infofile = os.path.join(TRAINING_DIR, 'academic_departments.tsv')\n",
    "dpt_df = pd.read_csv(dpt_file, sep='\\t')\n",
    "dpt_df.head()"
   ]
  },
  {
   "cell_type": "code",
   "execution_count": 20,
   "metadata": {
    "scrolled": false
   },
   "outputs": [
    {
     "data": {
      "text/html": [
       "<div>\n",
       "<style scoped>\n",
       "    .dataframe tbody tr th:only-of-type {\n",
       "        vertical-align: middle;\n",
       "    }\n",
       "\n",
       "    .dataframe tbody tr th {\n",
       "        vertical-align: top;\n",
       "    }\n",
       "\n",
       "    .dataframe thead th {\n",
       "        text-align: right;\n",
       "    }\n",
       "</style>\n",
       "<table border=\"1\" class=\"dataframe\">\n",
       "  <thead>\n",
       "    <tr style=\"text-align: right;\">\n",
       "      <th></th>\n",
       "      <th>ACADEMIC_DEPARTMENT_NAME</th>\n",
       "      <th>ACADEMIC_DIVISION_NAME</th>\n",
       "      <th>MAJOR_NAME</th>\n",
       "      <th>COLLEGE_NAME</th>\n",
       "    </tr>\n",
       "  </thead>\n",
       "  <tbody>\n",
       "    <tr>\n",
       "      <th>15</th>\n",
       "      <td>Bioengineering</td>\n",
       "      <td>Clg of Engineering</td>\n",
       "      <td>Bioengineering</td>\n",
       "      <td>Clg of Engineering</td>\n",
       "    </tr>\n",
       "    <tr>\n",
       "      <th>16</th>\n",
       "      <td>Bioengineering</td>\n",
       "      <td>Clg of Engineering</td>\n",
       "      <td>Translational Medicine</td>\n",
       "      <td>Clg of Engineering</td>\n",
       "    </tr>\n",
       "    <tr>\n",
       "      <th>17</th>\n",
       "      <td>Bioengineering-UCSF Grad Grp</td>\n",
       "      <td>Clg of Engineering</td>\n",
       "      <td>Bioengineering (UCSF)</td>\n",
       "      <td>Clg of Engineering</td>\n",
       "    </tr>\n",
       "    <tr>\n",
       "      <th>18</th>\n",
       "      <td>Bioengineering-UCSF Grad Grp</td>\n",
       "      <td>Clg of Engineering</td>\n",
       "      <td>Translational Medicine (UCSF)</td>\n",
       "      <td>Clg of Engineering</td>\n",
       "    </tr>\n",
       "    <tr>\n",
       "      <th>70</th>\n",
       "      <td>Engineering Joint Programs</td>\n",
       "      <td>Clg of Engineering</td>\n",
       "      <td>BioE/MSE Joint Major</td>\n",
       "      <td>Clg of Engineering</td>\n",
       "    </tr>\n",
       "    <tr>\n",
       "      <th>71</th>\n",
       "      <td>Engineering Joint Programs</td>\n",
       "      <td>Clg of Engineering</td>\n",
       "      <td>EECS/MSE Joint Major</td>\n",
       "      <td>Clg of Engineering</td>\n",
       "    </tr>\n",
       "    <tr>\n",
       "      <th>72</th>\n",
       "      <td>Engineering Joint Programs</td>\n",
       "      <td>Clg of Engineering</td>\n",
       "      <td>EECS/NE Joint Major</td>\n",
       "      <td>Clg of Engineering</td>\n",
       "    </tr>\n",
       "    <tr>\n",
       "      <th>73</th>\n",
       "      <td>Engineering Joint Programs</td>\n",
       "      <td>Clg of Engineering</td>\n",
       "      <td>ME/NE Joint Major</td>\n",
       "      <td>Clg of Engineering</td>\n",
       "    </tr>\n",
       "    <tr>\n",
       "      <th>74</th>\n",
       "      <td>Engineering Joint Programs</td>\n",
       "      <td>Clg of Engineering</td>\n",
       "      <td>MSE/ME Joint Major</td>\n",
       "      <td>Clg of Engineering</td>\n",
       "    </tr>\n",
       "    <tr>\n",
       "      <th>75</th>\n",
       "      <td>Engineering Joint Programs</td>\n",
       "      <td>Clg of Engineering</td>\n",
       "      <td>MSE/NE Joint Major</td>\n",
       "      <td>Clg of Engineering</td>\n",
       "    </tr>\n",
       "    <tr>\n",
       "      <th>76</th>\n",
       "      <td>Engineering Science</td>\n",
       "      <td>Clg of Engineering</td>\n",
       "      <td>Computational Eng Science</td>\n",
       "      <td>Clg of Engineering</td>\n",
       "    </tr>\n",
       "    <tr>\n",
       "      <th>77</th>\n",
       "      <td>Engineering Science</td>\n",
       "      <td>Clg of Engineering</td>\n",
       "      <td>Energy Engineering</td>\n",
       "      <td>Clg of Engineering</td>\n",
       "    </tr>\n",
       "    <tr>\n",
       "      <th>78</th>\n",
       "      <td>Engineering Science</td>\n",
       "      <td>Clg of Engineering</td>\n",
       "      <td>Engineering Physics</td>\n",
       "      <td>Clg of Engineering</td>\n",
       "    </tr>\n",
       "    <tr>\n",
       "      <th>79</th>\n",
       "      <td>Engineering Science</td>\n",
       "      <td>Clg of Engineering</td>\n",
       "      <td>Engineering Undeclared</td>\n",
       "      <td>Clg of Engineering</td>\n",
       "    </tr>\n",
       "    <tr>\n",
       "      <th>80</th>\n",
       "      <td>Engineering Science</td>\n",
       "      <td>Clg of Engineering</td>\n",
       "      <td>Eng Math &amp; Statistics</td>\n",
       "      <td>Clg of Engineering</td>\n",
       "    </tr>\n",
       "    <tr>\n",
       "      <th>81</th>\n",
       "      <td>Engineering Science</td>\n",
       "      <td>Clg of Engineering</td>\n",
       "      <td>Environmental Eng Science</td>\n",
       "      <td>Clg of Engineering</td>\n",
       "    </tr>\n",
       "    <tr>\n",
       "      <th>82</th>\n",
       "      <td>Engineering Science</td>\n",
       "      <td>Clg of Engineering</td>\n",
       "      <td>Manufacturing Engineering</td>\n",
       "      <td>Clg of Engineering</td>\n",
       "    </tr>\n",
       "    <tr>\n",
       "      <th>167</th>\n",
       "      <td>Mechanical Engineering</td>\n",
       "      <td>Clg of Engineering</td>\n",
       "      <td>Mechanical Engineering</td>\n",
       "      <td>Clg of Engineering</td>\n",
       "    </tr>\n",
       "    <tr>\n",
       "      <th>168</th>\n",
       "      <td>Mechanical Engineering</td>\n",
       "      <td>Clg of Engineering</td>\n",
       "      <td>Mechanical Engineering PT MEng</td>\n",
       "      <td>Clg of Engineering</td>\n",
       "    </tr>\n",
       "    <tr>\n",
       "      <th>190</th>\n",
       "      <td>Nuclear Engineering</td>\n",
       "      <td>Clg of Engineering</td>\n",
       "      <td>Nuclear Engineering</td>\n",
       "      <td>Clg of Engineering</td>\n",
       "    </tr>\n",
       "    <tr>\n",
       "      <th>191</th>\n",
       "      <td>Nuclear Engineering</td>\n",
       "      <td>Clg of Engineering</td>\n",
       "      <td>Nuclear Engineering PT MEng</td>\n",
       "      <td>Clg of Engineering</td>\n",
       "    </tr>\n",
       "  </tbody>\n",
       "</table>\n",
       "</div>"
      ],
      "text/plain": [
       "         ACADEMIC_DEPARTMENT_NAME ACADEMIC_DIVISION_NAME  \\\n",
       "15                 Bioengineering     Clg of Engineering   \n",
       "16                 Bioengineering     Clg of Engineering   \n",
       "17   Bioengineering-UCSF Grad Grp     Clg of Engineering   \n",
       "18   Bioengineering-UCSF Grad Grp     Clg of Engineering   \n",
       "70     Engineering Joint Programs     Clg of Engineering   \n",
       "71     Engineering Joint Programs     Clg of Engineering   \n",
       "72     Engineering Joint Programs     Clg of Engineering   \n",
       "73     Engineering Joint Programs     Clg of Engineering   \n",
       "74     Engineering Joint Programs     Clg of Engineering   \n",
       "75     Engineering Joint Programs     Clg of Engineering   \n",
       "76            Engineering Science     Clg of Engineering   \n",
       "77            Engineering Science     Clg of Engineering   \n",
       "78            Engineering Science     Clg of Engineering   \n",
       "79            Engineering Science     Clg of Engineering   \n",
       "80            Engineering Science     Clg of Engineering   \n",
       "81            Engineering Science     Clg of Engineering   \n",
       "82            Engineering Science     Clg of Engineering   \n",
       "167        Mechanical Engineering     Clg of Engineering   \n",
       "168        Mechanical Engineering     Clg of Engineering   \n",
       "190           Nuclear Engineering     Clg of Engineering   \n",
       "191           Nuclear Engineering     Clg of Engineering   \n",
       "\n",
       "                         MAJOR_NAME        COLLEGE_NAME  \n",
       "15                   Bioengineering  Clg of Engineering  \n",
       "16           Translational Medicine  Clg of Engineering  \n",
       "17            Bioengineering (UCSF)  Clg of Engineering  \n",
       "18    Translational Medicine (UCSF)  Clg of Engineering  \n",
       "70             BioE/MSE Joint Major  Clg of Engineering  \n",
       "71             EECS/MSE Joint Major  Clg of Engineering  \n",
       "72              EECS/NE Joint Major  Clg of Engineering  \n",
       "73                ME/NE Joint Major  Clg of Engineering  \n",
       "74               MSE/ME Joint Major  Clg of Engineering  \n",
       "75               MSE/NE Joint Major  Clg of Engineering  \n",
       "76        Computational Eng Science  Clg of Engineering  \n",
       "77               Energy Engineering  Clg of Engineering  \n",
       "78              Engineering Physics  Clg of Engineering  \n",
       "79           Engineering Undeclared  Clg of Engineering  \n",
       "80            Eng Math & Statistics  Clg of Engineering  \n",
       "81        Environmental Eng Science  Clg of Engineering  \n",
       "82        Manufacturing Engineering  Clg of Engineering  \n",
       "167          Mechanical Engineering  Clg of Engineering  \n",
       "168  Mechanical Engineering PT MEng  Clg of Engineering  \n",
       "190             Nuclear Engineering  Clg of Engineering  \n",
       "191     Nuclear Engineering PT MEng  Clg of Engineering  "
      ]
     },
     "execution_count": 20,
     "metadata": {},
     "output_type": "execute_result"
    }
   ],
   "source": [
    "dpt_df.loc[dpt_df.ACADEMIC_DEPARTMENT_NAME.str.contains('engineering', case=False)]"
   ]
  },
  {
   "cell_type": "code",
   "execution_count": 26,
   "metadata": {
    "scrolled": false
   },
   "outputs": [],
   "source": [
    "num_possible_keywords = Y_test.shape[0] * num_top_words\n",
    "num_predicted_keywords = len(keyword_counter.keys())"
   ]
  },
  {
   "cell_type": "code",
   "execution_count": 27,
   "metadata": {},
   "outputs": [],
   "source": [
    "assert sum(keyword_counter.values()) == Y_test.shape[0] * num_top_words,\\\n",
    "'Total number of predicted keywords should equal number of courses * number of predicted keywords per course.'"
   ]
  },
  {
   "cell_type": "code",
   "execution_count": 28,
   "metadata": {},
   "outputs": [
    {
     "data": {
      "text/plain": [
       "array([12.97012302, 12.97012302, 12.97012302, ..., 12.97012302,\n",
       "       12.97012302, 12.97012302])"
      ]
     },
     "execution_count": 28,
     "metadata": {},
     "output_type": "execute_result"
    }
   ],
   "source": [
    "unif_keyword_vector = np.repeat(num_possible_keywords / num_predicted_keywords, num_predicted_keywords)\n",
    "unif_keyword_vector"
   ]
  },
  {
   "cell_type": "code",
   "execution_count": 29,
   "metadata": {},
   "outputs": [
    {
     "data": {
      "text/plain": [
       "array([41,  1,  1, ...,  2,  5, 48])"
      ]
     },
     "execution_count": 29,
     "metadata": {},
     "output_type": "execute_result"
    }
   ],
   "source": [
    "predicted_keyword_vector = np.array(list(keyword_counter.values()))\n",
    "predicted_keyword_vector"
   ]
  },
  {
   "cell_type": "code",
   "execution_count": 30,
   "metadata": {},
   "outputs": [],
   "source": [
    "assert unif_keyword_vector.shape == predicted_keyword_vector.shape"
   ]
  },
  {
   "cell_type": "code",
   "execution_count": 31,
   "metadata": {},
   "outputs": [
    {
     "data": {
      "text/plain": [
       "0.3620480643963293"
      ]
     },
     "execution_count": 31,
     "metadata": {},
     "output_type": "execute_result"
    }
   ],
   "source": [
    "from scipy.spatial.distance import cosine\n",
    "\n",
    "def cosine_similarity(x, y):\n",
    "    return 1 - cosine(x,y)\n",
    "\n",
    "cosine_similarity(predicted_keyword_vector, unif_keyword_vector)"
   ]
  },
  {
   "cell_type": "code",
   "execution_count": null,
   "metadata": {},
   "outputs": [],
   "source": [
    "cosine_similarity([1,-1], [1,1])"
   ]
  },
  {
   "cell_type": "markdown",
   "metadata": {},
   "source": []
  },
  {
   "cell_type": "code",
   "execution_count": null,
   "metadata": {},
   "outputs": [],
   "source": []
  }
 ],
 "metadata": {
  "kernelspec": {
   "display_name": "Python 3",
   "language": "python",
   "name": "python3"
  },
  "language_info": {
   "codemirror_mode": {
    "name": "ipython",
    "version": 3
   },
   "file_extension": ".py",
   "mimetype": "text/x-python",
   "name": "python",
   "nbconvert_exporter": "python",
   "pygments_lexer": "ipython3",
   "version": "3.5.2"
  }
 },
 "nbformat": 4,
 "nbformat_minor": 2
}
